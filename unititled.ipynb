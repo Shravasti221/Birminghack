{
 "cells": [
  {
   "cell_type": "code",
   "execution_count": 1,
   "metadata": {},
   "outputs": [
    {
     "name": "stdout",
     "output_type": "stream",
     "text": [
      "Collecting whisper\n",
      "  Downloading whisper-1.1.10.tar.gz (42 kB)\n",
      "  Preparing metadata (setup.py) ... \u001b[?25ldone\n",
      "\u001b[?25hRequirement already satisfied: six in /Users/spectrebrain/Documents/Miniconda/miniconda3/lib/python3.11/site-packages (from whisper) (1.16.0)\n",
      "Building wheels for collected packages: whisper\n",
      "  Building wheel for whisper (setup.py) ... \u001b[?25ldone\n",
      "\u001b[?25h  Created wheel for whisper: filename=whisper-1.1.10-py3-none-any.whl size=41121 sha256=9150a6b2926d8c684194a682e781b3cd6e8acc7086dd9bd2c546bc1ea966f989\n",
      "  Stored in directory: /Users/spectrebrain/Library/Caches/pip/wheels/21/65/ee/4e6672aabfa486d3341a39a04f8f87c77e5156149299b5a7d0\n",
      "Successfully built whisper\n",
      "Installing collected packages: whisper\n",
      "Successfully installed whisper-1.1.10\n",
      "Note: you may need to restart the kernel to use updated packages.\n"
     ]
    }
   ],
   "source": [
    "pip install whisper"
   ]
  },
  {
   "cell_type": "code",
   "execution_count": 2,
   "metadata": {},
   "outputs": [
    {
     "name": "stdout",
     "output_type": "stream",
     "text": [
      "Collecting pyneuphonic\n",
      "  Downloading pyneuphonic-1.5.13-py3-none-any.whl.metadata (15 kB)\n",
      "Collecting aioconsole<0.8.0,>=0.7.1 (from pyneuphonic)\n",
      "  Downloading aioconsole-0.7.1-py3-none-any.whl.metadata (5.4 kB)\n",
      "Collecting certifi<2025.0.0,>=2024.0.0 (from pyneuphonic)\n",
      "  Downloading certifi-2024.12.14-py3-none-any.whl.metadata (2.3 kB)\n",
      "Requirement already satisfied: httpx<0.28.0,>=0.27.2 in /Users/spectrebrain/Documents/Miniconda/miniconda3/lib/python3.11/site-packages (from pyneuphonic) (0.27.2)\n",
      "Requirement already satisfied: pydantic<3.0.0,>=2.9.2 in /Users/spectrebrain/Documents/Miniconda/miniconda3/lib/python3.11/site-packages (from pyneuphonic) (2.10.6)\n",
      "Collecting websockets<14.0,>=12.0 (from pyneuphonic)\n",
      "  Downloading websockets-13.1-cp311-cp311-macosx_11_0_arm64.whl.metadata (6.8 kB)\n",
      "Requirement already satisfied: anyio in /Users/spectrebrain/Documents/Miniconda/miniconda3/lib/python3.11/site-packages (from httpx<0.28.0,>=0.27.2->pyneuphonic) (4.6.2)\n",
      "Requirement already satisfied: httpcore==1.* in /Users/spectrebrain/Documents/Miniconda/miniconda3/lib/python3.11/site-packages (from httpx<0.28.0,>=0.27.2->pyneuphonic) (1.0.5)\n",
      "Requirement already satisfied: idna in /Users/spectrebrain/Documents/Miniconda/miniconda3/lib/python3.11/site-packages (from httpx<0.28.0,>=0.27.2->pyneuphonic) (3.7)\n",
      "Requirement already satisfied: sniffio in /Users/spectrebrain/Documents/Miniconda/miniconda3/lib/python3.11/site-packages (from httpx<0.28.0,>=0.27.2->pyneuphonic) (1.3.0)\n",
      "Requirement already satisfied: h11<0.15,>=0.13 in /Users/spectrebrain/Documents/Miniconda/miniconda3/lib/python3.11/site-packages (from httpcore==1.*->httpx<0.28.0,>=0.27.2->pyneuphonic) (0.14.0)\n",
      "Requirement already satisfied: annotated-types>=0.6.0 in /Users/spectrebrain/Documents/Miniconda/miniconda3/lib/python3.11/site-packages (from pydantic<3.0.0,>=2.9.2->pyneuphonic) (0.6.0)\n",
      "Requirement already satisfied: pydantic-core==2.27.2 in /Users/spectrebrain/Documents/Miniconda/miniconda3/lib/python3.11/site-packages (from pydantic<3.0.0,>=2.9.2->pyneuphonic) (2.27.2)\n",
      "Requirement already satisfied: typing-extensions>=4.12.2 in /Users/spectrebrain/Documents/Miniconda/miniconda3/lib/python3.11/site-packages (from pydantic<3.0.0,>=2.9.2->pyneuphonic) (4.12.2)\n",
      "Downloading pyneuphonic-1.5.13-py3-none-any.whl (23 kB)\n",
      "Downloading aioconsole-0.7.1-py3-none-any.whl (30 kB)\n",
      "Downloading certifi-2024.12.14-py3-none-any.whl (164 kB)\n",
      "Downloading websockets-13.1-cp311-cp311-macosx_11_0_arm64.whl (155 kB)\n",
      "Installing collected packages: websockets, certifi, aioconsole, pyneuphonic\n",
      "  Attempting uninstall: websockets\n",
      "    Found existing installation: websockets 10.4\n",
      "    Uninstalling websockets-10.4:\n",
      "      Successfully uninstalled websockets-10.4\n",
      "  Attempting uninstall: certifi\n",
      "    Found existing installation: certifi 2025.1.31\n",
      "    Uninstalling certifi-2025.1.31:\n",
      "      Successfully uninstalled certifi-2025.1.31\n",
      "\u001b[31mERROR: pip's dependency resolver does not currently take into account all the packages that are installed. This behaviour is the source of the following dependency conflicts.\n",
      "pyppeteer 2.0.0 requires urllib3<2.0.0,>=1.25.8, but you have urllib3 2.2.3 which is incompatible.\n",
      "pyppeteer 2.0.0 requires websockets<11.0,>=10.0, but you have websockets 13.1 which is incompatible.\u001b[0m\u001b[31m\n",
      "\u001b[0mSuccessfully installed aioconsole-0.7.1 certifi-2024.12.14 pyneuphonic-1.5.13 websockets-13.1\n",
      "Note: you may need to restart the kernel to use updated packages.\n"
     ]
    }
   ],
   "source": [
    "pip install pyneuphonic"
   ]
  },
  {
   "cell_type": "code",
   "execution_count": 3,
   "metadata": {},
   "outputs": [
    {
     "name": "stdout",
     "output_type": "stream",
     "text": [
      "Collecting pyaudio\n",
      "  Downloading PyAudio-0.2.14.tar.gz (47 kB)\n",
      "  Installing build dependencies ... \u001b[?25ldone\n",
      "\u001b[?25h  Getting requirements to build wheel ... \u001b[?25ldone\n",
      "\u001b[?25h  Preparing metadata (pyproject.toml) ... \u001b[?25ldone\n",
      "\u001b[?25hBuilding wheels for collected packages: pyaudio\n",
      "  Building wheel for pyaudio (pyproject.toml) ... \u001b[?25lerror\n",
      "  \u001b[1;31merror\u001b[0m: \u001b[1msubprocess-exited-with-error\u001b[0m\n",
      "  \n",
      "  \u001b[31m×\u001b[0m \u001b[32mBuilding wheel for pyaudio \u001b[0m\u001b[1;32m(\u001b[0m\u001b[32mpyproject.toml\u001b[0m\u001b[1;32m)\u001b[0m did not run successfully.\n",
      "  \u001b[31m│\u001b[0m exit code: \u001b[1;36m1\u001b[0m\n",
      "  \u001b[31m╰─>\u001b[0m \u001b[31m[27 lines of output]\u001b[0m\n",
      "  \u001b[31m   \u001b[0m /private/var/folders/kc/21_s74b16zb4sw3qkmrlmhlc0000gn/T/pip-build-env-gvg8rcs8/overlay/lib/python3.11/site-packages/setuptools/dist.py:760: SetuptoolsDeprecationWarning: License classifiers are deprecated.\n",
      "  \u001b[31m   \u001b[0m !!\n",
      "  \u001b[31m   \u001b[0m \n",
      "  \u001b[31m   \u001b[0m         ********************************************************************************\n",
      "  \u001b[31m   \u001b[0m         Please consider removing the following classifiers in favor of a SPDX license expression:\n",
      "  \u001b[31m   \u001b[0m \n",
      "  \u001b[31m   \u001b[0m         License :: OSI Approved :: MIT License\n",
      "  \u001b[31m   \u001b[0m \n",
      "  \u001b[31m   \u001b[0m         See https://packaging.python.org/en/latest/guides/writing-pyproject-toml/#license for details.\n",
      "  \u001b[31m   \u001b[0m         ********************************************************************************\n",
      "  \u001b[31m   \u001b[0m \n",
      "  \u001b[31m   \u001b[0m !!\n",
      "  \u001b[31m   \u001b[0m   self._finalize_license_expression()\n",
      "  \u001b[31m   \u001b[0m running bdist_wheel\n",
      "  \u001b[31m   \u001b[0m running build\n",
      "  \u001b[31m   \u001b[0m running build_py\n",
      "  \u001b[31m   \u001b[0m creating build/lib.macosx-11.1-arm64-cpython-311/pyaudio\n",
      "  \u001b[31m   \u001b[0m copying src/pyaudio/__init__.py -> build/lib.macosx-11.1-arm64-cpython-311/pyaudio\n",
      "  \u001b[31m   \u001b[0m running build_ext\n",
      "  \u001b[31m   \u001b[0m building 'pyaudio._portaudio' extension\n",
      "  \u001b[31m   \u001b[0m creating build/temp.macosx-11.1-arm64-cpython-311/src/pyaudio\n",
      "  \u001b[31m   \u001b[0m clang -DNDEBUG -fwrapv -O2 -Wall -fPIC -O2 -isystem /Users/spectrebrain/Documents/Miniconda/miniconda3/include -arch arm64 -fPIC -O2 -isystem /Users/spectrebrain/Documents/Miniconda/miniconda3/include -arch arm64 -DMACOS=1 -I/usr/local/include -I/usr/include -I/opt/homebrew/include -I/Users/spectrebrain/Documents/Miniconda/miniconda3/include/python3.11 -c src/pyaudio/device_api.c -o build/temp.macosx-11.1-arm64-cpython-311/src/pyaudio/device_api.o\n",
      "  \u001b[31m   \u001b[0m src/pyaudio/device_api.c:9:10: fatal error: 'portaudio.h' file not found\n",
      "  \u001b[31m   \u001b[0m     9 | #include \"portaudio.h\"\n",
      "  \u001b[31m   \u001b[0m       |          ^~~~~~~~~~~~~\n",
      "  \u001b[31m   \u001b[0m 1 error generated.\n",
      "  \u001b[31m   \u001b[0m error: command '/usr/bin/clang' failed with exit code 1\n",
      "  \u001b[31m   \u001b[0m \u001b[31m[end of output]\u001b[0m\n",
      "  \n",
      "  \u001b[1;35mnote\u001b[0m: This error originates from a subprocess, and is likely not a problem with pip.\n",
      "\u001b[?25h\u001b[31m  ERROR: Failed building wheel for pyaudio\u001b[0m\u001b[31m\n",
      "\u001b[0mFailed to build pyaudio\n",
      "\u001b[31mERROR: ERROR: Failed to build installable wheels for some pyproject.toml based projects (pyaudio)\u001b[0m\u001b[31m\n",
      "\u001b[0mNote: you may need to restart the kernel to use updated packages.\n"
     ]
    }
   ],
   "source": [
    "pip install pyaudio"
   ]
  },
  {
   "cell_type": "code",
   "execution_count": null,
   "metadata": {},
   "outputs": [],
   "source": []
  }
 ],
 "metadata": {
  "kernelspec": {
   "display_name": "base",
   "language": "python",
   "name": "python3"
  },
  "language_info": {
   "codemirror_mode": {
    "name": "ipython",
    "version": 3
   },
   "file_extension": ".py",
   "mimetype": "text/x-python",
   "name": "python",
   "nbconvert_exporter": "python",
   "pygments_lexer": "ipython3",
   "version": "3.11.5"
  }
 },
 "nbformat": 4,
 "nbformat_minor": 2
}
