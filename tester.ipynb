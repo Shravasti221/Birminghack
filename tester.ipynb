{
 "cells": [
  {
   "cell_type": "code",
   "execution_count": 5,
   "metadata": {},
   "outputs": [],
   "source": [
    "import os\n",
    "import regex as re"
   ]
  },
  {
   "cell_type": "code",
   "execution_count": 11,
   "metadata": {},
   "outputs": [
    {
     "name": "stdout",
     "output_type": "stream",
     "text": [
      "(Cinderella, stepmother, stepsister1, stepsister2, father, king, white bird, pigeons, turtledoves)\n",
      "\n",
      "Narrator: A rich man's wife became sick, and when she felt that her end was drawing near, she called her only daughter to her bedside and said, \n",
      "Cinderella's mother: \"Dear child, remain pious and good, and then our dear God will always protect you, and I will look down on you from heaven and be near you.\" Narrator: With this she closed her eyes and died. The girl went out to her mother's grave every day and wept, and she remained pious and good. When winter came the snow spread a white cloth over the grave, and when the spring sun had removed it again, the man took himself another wife. Narrator: This wife brought two daughters into the house with her. They were beautiful, with fair faces, but evil and dark hearts. Stepsister1: \"Why should that stupid goose sit in the parlor with us?\" Stepsister2: \"If she wants to eat bread, then she will have to earn it. Out with this kitchen maid!\" Narrator: They took her beautiful clothes away from her, dressed her in an old gray smock, and gave her wooden shoes. Stepsister1: \"Just look at the proud princess! How decked out she is!\" Stepsister2: \"Just look at the proud princess! Narrator: They shouted and laughed as they led her into the kitchen. There she had to do hard work from morning until evening, get up before daybreak, carry water, make the fires, cook, and wash. \n",
      "Narrator: Besides this, the sisters did everything imaginable to hurt her. They made fun of her, scattered peas and lentils into the ashes for her, so that she had to sit and pick them out again. Narrator: In the evening when she had worked herself weary, there was no bed for her. Instead she had to sleep by the hearth in the ashes. Narrator: And because she always looked dusty and dirty, they called her Cinderella. Narrator: One day it happened that the father was going to the fair, and he asked his two stepdaughters what he should bring back for them. Stepsister1: \"Beautiful dresses,\" \n",
      "Stepsister2: \"Pearls and jewels,\" \n",
      "Father: \"And you, Cinderella, what do you want?\" Cinderella: \"Father, break off for me the first twig that brushes against your hat on your way home.\" Narrator: So he bought beautiful dresses, pearls, and jewels for his two stepdaughters. On his way home, as he was riding through a green thicket, a hazel twig brushed against him and knocked off his hat. Narrator: Then he broke off the twig and took it with him. Arriving home, he gave his stepdaughters the things that they had asked for, and he gave Cinderella the twig from the hazel bush. Narrator: Cinderella thanked him, went to her mother's grave, and planted the branch on it, and she wept so much that her tears fell upon it and watered it. Narrator: It grew and became a beautiful tree. Cinderella went to this tree three times every day, and beneath it she wept and prayed. Narrator: A white bird came to the tree every time, and whenever she expressed a wish, the bird would throw down to her what she had wished for. Narrator: Now it happened that the king proclaimed a festival that was to last three days. All the beautiful young girls in the land were invited, so that his son could select a bride for himself. Stepsister1: \"Comb our hair for us. Brush our shoes and fasten our buckles. We are going to the festival at the king's castle.\" Stepsister2: \"Comb our hair for us. Cinderella: \"You, all covered with dust and dirt, and you want to go to the festival?. You have neither clothes nor shoes, and yet you want to dance!\" Stepmother: \"You, Cinderella? You, all covered with dust and dirt, and you want to go to the festival?. Cinderella: \"I have scattered a bowl of lentils into the ashes for you. If you can pick them out again in two hours, then you may go with us.\" Cinderella: \"You tame pigeons, you turtledoves, and all you birds beneath the sky, come and help me to gather: \n",
      "The good ones go into the pot,  \n",
      "The bad ones go into your crop.\" (Cinderella, Stepmother, Prince, Bird, Father, Stepsisters)\n",
      "\n",
      "Narrator: You have neither clothes nor shoes, and yet you want to dance! Stepmother: I have scattered a bowl of lentils into the ashes for you. If you can pick them out again in two hours, then you may go with us. Cinderella: You tame pigeons, you turtledoves, and all you birds beneath the sky, come and help me to gather: \n",
      "The good ones go into the pot, \n",
      "The bad ones go into your crop. Narrator: Two white pigeons came in through the kitchen window, and then the turtledoves, and finally all the birds beneath the sky came whirring and swarming in, and lit around the ashes. Narrator: The pigeons nodded their heads and began to pick, pick, pick, pick. And the others also began to pick, pick, pick, pick. Stepmother: No, Cinderella, you have no clothes, and you don't know how to dance. Everyone would only laugh at you. Cinderella: \n",
      "Narrator: Cinderella began to cry, \n",
      "Stepmother: You may go if you are able to pick two bowls of lentils out of the ashes for me in one hour,\n",
      "Cinderella: You tame pigeons, you turtledoves, and all you birds beneath the sky, come and help me to gather: \n",
      "The good ones go into the pot, \n",
      "The bad ones go into your crop. Stepmother: It's no use. You are not coming with us, for you have no clothes, and you don't know how to dance. We would be ashamed of you. Narrator: With this she turned her back on Cinderella, and hurried away with her two proud daughters. Cinderella: Shake and quiver, little tree, \n",
      "Throw gold and silver down to me. Narrator: Then the bird threw a gold and silver dress down to her, and slippers embroidered with silk and silver. Narrator: The prince approached her, took her by the hand, and danced with her. Prince: She is my dance partner. Narrator: She danced until evening, and then she wanted to go home. Prince: I will go along and escort you, \n",
      "Narrator: for he wanted to see to whom the beautiful girl belonged. Narrator: However, she eluded him and jumped into the pigeon coop. Prince: The unknown girl had jumped into the pigeon coop. Narrator: The old man thought, \"Could it be Cinderella?\" Father: He had them bring him an ax and a pick so that he could break the pigeon coop apart, \n",
      "Narrator: but no one was inside. Narrator: When they got home Cinderella was lying in the ashes, dressed in her dirty clothes. Narrator: Then the bird threw down an even more magnificent dress than on the preceding day. Narrator: When Cinderella appeared at the festival in this dress, everyone was astonished at her beauty. (Cinderella, the prince, the father, the mother, the older sister, the younger sister, the bird, the pigeons)\n",
      "\n",
      "Narrator: Then the bird threw down an even more magnificent dress than on the preceding day. When Cinderella appeared at the festival in this dress, everyone was astonished at her beauty. Narrator: The prince had waited until she came, then immediately took her by the hand, and danced only with her. When others came and asked her to dance with them, \n",
      "Prince: She is my dance partner. Narrator: When evening came she wanted to leave, and the prince followed her, wanting to see into which house she went. But she ran away from him and into the garden behind the house. Narrator: A beautiful tall tree stood there, on which hung the most magnificent pears. She climbed as nimbly as a squirrel into the branches, and the prince did not know where she had gone. Prince: The unknown girl has eluded me, and I believe she has climbed up the pear tree. Father: \n",
      "Narrator: The father thought, \"Could it be Cinderella?\" He had an ax brought to him and cut down the tree, but no one was in it. Narrator: When they came to the kitchen, Cinderella was lying there in the ashes as usual, for she had jumped down from the other side of the tree, had taken the beautiful dress back to the bird in the hazel tree, and had put on her gray smock. Cinderella: Shake and quiver, little tree, Throw gold and silver down to me. Narrator: This time the bird threw down to her a dress that was more splendid and magnificent than any she had yet had, and the slippers were of pure gold. Narrator: When she arrived at the festival in this dress, everyone was so astonished that they did not know what to say. Narrator: The prince danced only with her, and whenever anyone else asked her to dance, he would say, \"She is my dance partner.\" Narrator: When evening came Cinderella wanted to leave, and the prince tried to escort her, but she ran away from him so quickly that he could not follow her. Narrator: The prince, however, had set a trap. He had had the entire stairway smeared with pitch. Narrator: When she ran down the stairs, her left slipper stuck in the pitch. Prince: No one shall be my wife except for the one whose foot fits this golden shoe. Older Sister: \n",
      "Mother: Cut off your toe. When you are queen you will no longer have to go on foot. Narrator: The girl cut off her toe, forced her foot into the shoe, swallowed the pain, and went out to the prince. Pigeons: Rook di goo, rook di goo! There's blood in the shoe. The shoe is too tight, This bride is not right! Prince: This is not the right one, \n",
      "Mother: Cut a piece off your heel. Narrator: The girl cut a piece off her heel, forced her foot into the shoe, swallowed the pain, and went out to the prince. Prince: This is not the right one, either. Don't you have another daughter? Father: No, There is only a deformed little Cinderella from my first wife, but she cannot possibly be the bride. Prince:  Send her to him\n",
      "Mother: Oh, no, she is much too dirty. She cannot be seen. (Cinderella, the man, the prince, the mother, the pigeons, the older sister, the younger sister)\n",
      "\n",
      "narrator: \"Don't you have another daughter?\" the man: \"No,\" \n",
      "the man: \"There is only a deformed little Cinderella from my first wife, but she cannot possibly be the bride.\" the prince: \"She is my true bride.\" the mother: \"Oh, no, she is much too dirty. She cannot be seen.\" the pigeons: \"Rook di goo, rook di goo! No blood's in the shoe. The shoe's not too tight, This bride is right!!\" the prince: \"Send her to me,\" \n",
      "narrator: She first washed her hands and face clean, and then went and bowed down before the prince, who gave her the golden shoe. She sat down on a stool, pulled her foot out of the heavy wooden shoe, and put it into the slipper, and it fitted her perfectly. When she stood up the prince looked into her face, and he recognized the beautiful girl who had danced with him. narrator: The stepmother and the two sisters were horrified and turned pale with anger. The prince, however, took Cinderella onto his horse and rode away with her. As they passed by the hazel tree, \n",
      "narrator: After they had cried this out, they both flew down and lit on Cinderella's shoulders, one on the right, the other on the left, and remained sitting there. When the wedding with the prince was to be held, the two false sisters came, wanting to gain favor with Cinderella and to share her good fortune. When the bridal couple walked into the church, the older sister walked on their right side and the younger on their left side, and the pigeons pecked out one eye from each of them. Afterward s, as they came out of the church, the older one was on the left side, and the younger one on the right side, and then the pigeons pecked out the other eye from each of them. And thus, for their wickedness and falsehood, they were punished with blindness as long as they lived.\n"
     ]
    }
   ],
   "source": [
    "sample_story_path = os.path.join(os.getcwd(), 'sample_story.txt')\n",
    "sample_story_txt = open(sample_story_path, 'r').read()\n",
    "cwd = os.getcwd()\n",
    "print(sample_story_txt)"
   ]
  },
  {
   "cell_type": "code",
   "execution_count": null,
   "metadata": {},
   "outputs": [],
   "source": [
    "def parse_text(file_path):\n",
    "    \"\"\"\n",
    "    Reads the story file and parses it into a list of tuples containing (index, speaker, speech).\n",
    "    Returns the list of tuples and the unique speakers.\n",
    "    \"\"\"\n",
    "    with open(file_path, 'r', encoding=\"utf-8\") as file:\n",
    "        lines = file.readlines()\n",
    "\n",
    "    text_list = []\n",
    "    current_speaker = None\n",
    "    current_speech_lines = []\n",
    "    count = 0\n",
    "\n",
    "    # Updated regex pattern to allow multi-word speakers\n",
    "    speaker_pattern = re.compile(r'\\b([\\w\\s\\'-]+):\\s*(.*)')  \n",
    "\n",
    "    for line in lines:\n",
    "        stripped_line = line.strip()\n",
    "\n",
    "        # Check if the line starts with a new speaker\n",
    "        speaker_match = speaker_pattern.match(stripped_line)\n",
    "        if speaker_match:\n",
    "            # Save the previous speaker's speech if it exists\n",
    "            if current_speaker is not None and current_speech_lines:\n",
    "                speech = ' '.join(current_speech_lines).strip()\n",
    "                text_list.append((count, current_speaker, speech))\n",
    "                count += 1\n",
    "\n",
    "            # Start a new speaker block\n",
    "            current_speaker = speaker_match.group(1).strip()  # Extract speaker\n",
    "            speech_text = speaker_match.group(2).strip()  # Extract speech if present\n",
    "\n",
    "            # If there's speech on the same line, start collecting it\n",
    "            current_speech_lines = [speech_text] if speech_text else []\n",
    "        else:\n",
    "            # Collect speech lines\n",
    "            current_speech_lines.append(stripped_line)\n",
    "\n",
    "    # Add the last speaker and their speech if any\n",
    "    if current_speaker is not None and current_speech_lines:\n",
    "        speech = ' '.join(current_speech_lines).strip()\n",
    "        text_list.append((count, current_speaker, speech))\n",
    "\n",
    "    # Get unique speakers\n",
    "    unique_speakers = list(set(speaker for _, speaker, _ in text_list))\n",
    "\n",
    "    return text_list, unique_speakers"
   ]
  },
  {
   "cell_type": "code",
   "execution_count": 15,
   "metadata": {},
   "outputs": [],
   "source": [
    "text_list, unique_speakers = parse_text(sample_story_path)"
   ]
  },
  {
   "cell_type": "code",
   "execution_count": 16,
   "metadata": {},
   "outputs": [
    {
     "data": {
      "text/plain": [
       "[(0,\n",
       "  'Narrator',\n",
       "  \"A rich man's wife became sick, and when she felt that her end was drawing near, she called her only daughter to her bedside and said,\"),\n",
       " (1,\n",
       "  \"Cinderella's mother\",\n",
       "  '\"Dear child, remain pious and good, and then our dear God will always protect you, and I will look down on you from heaven and be near you.\" Narrator: With this she closed her eyes and died. The girl went out to her mother\\'s grave every day and wept, and she remained pious and good. When winter came the snow spread a white cloth over the grave, and when the spring sun had removed it again, the man took himself another wife. Narrator: This wife brought two daughters into the house with her. They were beautiful, with fair faces, but evil and dark hearts. Stepsister1: \"Why should that stupid goose sit in the parlor with us?\" Stepsister2: \"If she wants to eat bread, then she will have to earn it. Out with this kitchen maid!\" Narrator: They took her beautiful clothes away from her, dressed her in an old gray smock, and gave her wooden shoes. Stepsister1: \"Just look at the proud princess! How decked out she is!\" Stepsister2: \"Just look at the proud princess! Narrator: They shouted and laughed as they led her into the kitchen. There she had to do hard work from morning until evening, get up before daybreak, carry water, make the fires, cook, and wash.'),\n",
       " (2,\n",
       "  'Narrator',\n",
       "  'Besides this, the sisters did everything imaginable to hurt her. They made fun of her, scattered peas and lentils into the ashes for her, so that she had to sit and pick them out again. Narrator: In the evening when she had worked herself weary, there was no bed for her. Instead she had to sleep by the hearth in the ashes. Narrator: And because she always looked dusty and dirty, they called her Cinderella. Narrator: One day it happened that the father was going to the fair, and he asked his two stepdaughters what he should bring back for them. Stepsister1: \"Beautiful dresses,\"'),\n",
       " (3, 'Stepsister2', '\"Pearls and jewels,\"'),\n",
       " (4,\n",
       "  'Father',\n",
       "  '\"And you, Cinderella, what do you want?\" Cinderella: \"Father, break off for me the first twig that brushes against your hat on your way home.\" Narrator: So he bought beautiful dresses, pearls, and jewels for his two stepdaughters. On his way home, as he was riding through a green thicket, a hazel twig brushed against him and knocked off his hat. Narrator: Then he broke off the twig and took it with him. Arriving home, he gave his stepdaughters the things that they had asked for, and he gave Cinderella the twig from the hazel bush. Narrator: Cinderella thanked him, went to her mother\\'s grave, and planted the branch on it, and she wept so much that her tears fell upon it and watered it. Narrator: It grew and became a beautiful tree. Cinderella went to this tree three times every day, and beneath it she wept and prayed. Narrator: A white bird came to the tree every time, and whenever she expressed a wish, the bird would throw down to her what she had wished for. Narrator: Now it happened that the king proclaimed a festival that was to last three days. All the beautiful young girls in the land were invited, so that his son could select a bride for himself. Stepsister1: \"Comb our hair for us. Brush our shoes and fasten our buckles. We are going to the festival at the king\\'s castle.\" Stepsister2: \"Comb our hair for us. Cinderella: \"You, all covered with dust and dirt, and you want to go to the festival?. You have neither clothes nor shoes, and yet you want to dance!\" Stepmother: \"You, Cinderella? You, all covered with dust and dirt, and you want to go to the festival?. Cinderella: \"I have scattered a bowl of lentils into the ashes for you. If you can pick them out again in two hours, then you may go with us.\" Cinderella: \"You tame pigeons, you turtledoves, and all you birds beneath the sky, come and help me to gather: The good ones go into the pot, The bad ones go into your crop.\" (Cinderella, Stepmother, Prince, Bird, Father, Stepsisters)'),\n",
       " (5,\n",
       "  'Narrator',\n",
       "  \"You have neither clothes nor shoes, and yet you want to dance! Stepmother: I have scattered a bowl of lentils into the ashes for you. If you can pick them out again in two hours, then you may go with us. Cinderella: You tame pigeons, you turtledoves, and all you birds beneath the sky, come and help me to gather: The good ones go into the pot, The bad ones go into your crop. Narrator: Two white pigeons came in through the kitchen window, and then the turtledoves, and finally all the birds beneath the sky came whirring and swarming in, and lit around the ashes. Narrator: The pigeons nodded their heads and began to pick, pick, pick, pick. And the others also began to pick, pick, pick, pick. Stepmother: No, Cinderella, you have no clothes, and you don't know how to dance. Everyone would only laugh at you. Cinderella:\"),\n",
       " (6, 'Narrator', 'Cinderella began to cry,'),\n",
       " (7,\n",
       "  'Stepmother',\n",
       "  'You may go if you are able to pick two bowls of lentils out of the ashes for me in one hour,'),\n",
       " (8,\n",
       "  'Cinderella',\n",
       "  \"You tame pigeons, you turtledoves, and all you birds beneath the sky, come and help me to gather: The good ones go into the pot, The bad ones go into your crop. Stepmother: It's no use. You are not coming with us, for you have no clothes, and you don't know how to dance. We would be ashamed of you. Narrator: With this she turned her back on Cinderella, and hurried away with her two proud daughters. Cinderella: Shake and quiver, little tree, Throw gold and silver down to me. Narrator: Then the bird threw a gold and silver dress down to her, and slippers embroidered with silk and silver. Narrator: The prince approached her, took her by the hand, and danced with her. Prince: She is my dance partner. Narrator: She danced until evening, and then she wanted to go home. Prince: I will go along and escort you,\"),\n",
       " (9,\n",
       "  'Narrator',\n",
       "  'for he wanted to see to whom the beautiful girl belonged. Narrator: However, she eluded him and jumped into the pigeon coop. Prince: The unknown girl had jumped into the pigeon coop. Narrator: The old man thought, \"Could it be Cinderella?\" Father: He had them bring him an ax and a pick so that he could break the pigeon coop apart,'),\n",
       " (10,\n",
       "  'Narrator',\n",
       "  'but no one was inside. Narrator: When they got home Cinderella was lying in the ashes, dressed in her dirty clothes. Narrator: Then the bird threw down an even more magnificent dress than on the preceding day. Narrator: When Cinderella appeared at the festival in this dress, everyone was astonished at her beauty. (Cinderella, the prince, the father, the mother, the older sister, the younger sister, the bird, the pigeons)'),\n",
       " (11,\n",
       "  'Narrator',\n",
       "  'Then the bird threw down an even more magnificent dress than on the preceding day. When Cinderella appeared at the festival in this dress, everyone was astonished at her beauty. Narrator: The prince had waited until she came, then immediately took her by the hand, and danced only with her. When others came and asked her to dance with them,'),\n",
       " (12,\n",
       "  'Prince',\n",
       "  'She is my dance partner. Narrator: When evening came she wanted to leave, and the prince followed her, wanting to see into which house she went. But she ran away from him and into the garden behind the house. Narrator: A beautiful tall tree stood there, on which hung the most magnificent pears. She climbed as nimbly as a squirrel into the branches, and the prince did not know where she had gone. Prince: The unknown girl has eluded me, and I believe she has climbed up the pear tree. Father:'),\n",
       " (13,\n",
       "  'Narrator',\n",
       "  'The father thought, \"Could it be Cinderella?\" He had an ax brought to him and cut down the tree, but no one was in it. Narrator: When they came to the kitchen, Cinderella was lying there in the ashes as usual, for she had jumped down from the other side of the tree, had taken the beautiful dress back to the bird in the hazel tree, and had put on her gray smock. Cinderella: Shake and quiver, little tree, Throw gold and silver down to me. Narrator: This time the bird threw down to her a dress that was more splendid and magnificent than any she had yet had, and the slippers were of pure gold. Narrator: When she arrived at the festival in this dress, everyone was so astonished that they did not know what to say. Narrator: The prince danced only with her, and whenever anyone else asked her to dance, he would say, \"She is my dance partner.\" Narrator: When evening came Cinderella wanted to leave, and the prince tried to escort her, but she ran away from him so quickly that he could not follow her. Narrator: The prince, however, had set a trap. He had had the entire stairway smeared with pitch. Narrator: When she ran down the stairs, her left slipper stuck in the pitch. Prince: No one shall be my wife except for the one whose foot fits this golden shoe. Older Sister:'),\n",
       " (14,\n",
       "  'Mother',\n",
       "  \"Cut off your toe. When you are queen you will no longer have to go on foot. Narrator: The girl cut off her toe, forced her foot into the shoe, swallowed the pain, and went out to the prince. Pigeons: Rook di goo, rook di goo! There's blood in the shoe. The shoe is too tight, This bride is not right! Prince: This is not the right one,\"),\n",
       " (15,\n",
       "  'Mother',\n",
       "  \"Cut a piece off your heel. Narrator: The girl cut a piece off her heel, forced her foot into the shoe, swallowed the pain, and went out to the prince. Prince: This is not the right one, either. Don't you have another daughter? Father: No, There is only a deformed little Cinderella from my first wife, but she cannot possibly be the bride. Prince:  Send her to him\"),\n",
       " (16,\n",
       "  'Mother',\n",
       "  'Oh, no, she is much too dirty. She cannot be seen. (Cinderella, the man, the prince, the mother, the pigeons, the older sister, the younger sister)'),\n",
       " (17, 'narrator', '\"Don\\'t you have another daughter?\" the man: \"No,\"'),\n",
       " (18,\n",
       "  'the man',\n",
       "  '\"There is only a deformed little Cinderella from my first wife, but she cannot possibly be the bride.\" the prince: \"She is my true bride.\" the mother: \"Oh, no, she is much too dirty. She cannot be seen.\" the pigeons: \"Rook di goo, rook di goo! No blood\\'s in the shoe. The shoe\\'s not too tight, This bride is right!!\" the prince: \"Send her to me,\"'),\n",
       " (19,\n",
       "  'narrator',\n",
       "  'She first washed her hands and face clean, and then went and bowed down before the prince, who gave her the golden shoe. She sat down on a stool, pulled her foot out of the heavy wooden shoe, and put it into the slipper, and it fitted her perfectly. When she stood up the prince looked into her face, and he recognized the beautiful girl who had danced with him. narrator: The stepmother and the two sisters were horrified and turned pale with anger. The prince, however, took Cinderella onto his horse and rode away with her. As they passed by the hazel tree,'),\n",
       " (20,\n",
       "  'narrator',\n",
       "  \"After they had cried this out, they both flew down and lit on Cinderella's shoulders, one on the right, the other on the left, and remained sitting there. When the wedding with the prince was to be held, the two false sisters came, wanting to gain favor with Cinderella and to share her good fortune. When the bridal couple walked into the church, the older sister walked on their right side and the younger on their left side, and the pigeons pecked out one eye from each of them. Afterward s, as they came out of the church, the older one was on the left side, and the younger one on the right side, and then the pigeons pecked out the other eye from each of them. And thus, for their wickedness and falsehood, they were punished with blindness as long as they lived.\")]"
      ]
     },
     "execution_count": 16,
     "metadata": {},
     "output_type": "execute_result"
    }
   ],
   "source": [
    "text_list"
   ]
  },
  {
   "cell_type": "code",
   "execution_count": null,
   "metadata": {},
   "outputs": [],
   "source": []
  }
 ],
 "metadata": {
  "kernelspec": {
   "display_name": "base",
   "language": "python",
   "name": "python3"
  },
  "language_info": {
   "codemirror_mode": {
    "name": "ipython",
    "version": 3
   },
   "file_extension": ".py",
   "mimetype": "text/x-python",
   "name": "python",
   "nbconvert_exporter": "python",
   "pygments_lexer": "ipython3",
   "version": "3.11.5"
  }
 },
 "nbformat": 4,
 "nbformat_minor": 2
}
