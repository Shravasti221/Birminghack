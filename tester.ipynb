{
 "cells": [
  {
   "cell_type": "code",
   "execution_count": 11,
   "metadata": {},
   "outputs": [],
   "source": [
    "import os\n",
    "import pandas as pd\n",
    "from load_text import parse_text\n",
    "from get_voices import get_voices\n",
    "\n",
    "def voice_assigner():\n",
    "    \n",
    "    \"\"\"\n",
    "    Assign voice id's to speakers\n",
    "    Takes a dictionary of main characters with their preferred voice names\n",
    "    Assigns a voice id to each speaker according to the dictionary\n",
    "    Rest of the speakers are assigned voices randomly\n",
    "    Return the voice assignment dictionary\n",
    "    \"\"\"\n",
    "    cwd = os.getcwd()\n",
    "    char_gender_txt_path = os.path.join(cwd, \"chars_gender.txt\")\n",
    "    char_gender_dict = {}\n",
    "\n",
    "    with open(char_gender_txt_path, \"r\") as f:\n",
    "        for line in f:  # Iterate over all lines\n",
    "            entry = line.strip().split(\":\")  \n",
    "            if len(entry) == 2:  # Ensure the line is well-formed\n",
    "                char_gender_dict[entry[0].strip()] = entry[1].strip()\n",
    "    \n",
    "    voices_csv_path = get_voices()\n",
    "    df_voices = pd.read_csv(voices_csv_path)\n",
    "    voice_id_list = df_voices[\"voice_id\"].values\n",
    "    # print(f\"voice_id_list: {voice_id_list}\")  # debug statement\n",
    "    voice_name_list = df_voices[\"name\"]\n",
    "    voice_tags = df_voices[\"tags\"]\n",
    "    voice_genders = [\"Male\" if \"Male\" in tags else \"Female\" for tags in voice_tags]\n",
    "    voice_name_gender_dict = dict(zip(voice_name_list, voice_genders))\n",
    "    print(voice_name_gender_dict)\n",
    "    \n",
    "    # voices_csv_path = get_voices()\n",
    "\n",
    "    # # currently assigning voices randomly (will need to update this later)\n",
    "    # df_voices = pd.read_csv(voices_csv_path)\n",
    "    # voice_id_list = df_voices[\"voice_id\"].values\n",
    "    # # print(f\"voice_id_list: {voice_id_list}\")  # debug statement\n",
    "    # voice_name_list = df_voices[\"name\"]\n",
    "\n",
    "    # # _, characters = parse_text(story_path)\n",
    "\n",
    "    # # print(f\"unique speakers: {characters}\")  # debug statement\n",
    "\n",
    "    # voice_assigment = {}\n",
    "\n",
    "    # for c, speaker in enumerate(characters):\n",
    "    #     if speaker in char_voice_dict.keys():\n",
    "    #         voice_assigment[speaker] = char_voice_dict[speaker]\n",
    "    #     else:\n",
    "    #         voice_assigment[speaker] = voice_id_list[c%len(voice_id_list)]\n",
    "\n",
    "    # return voice_assigment\n"
   ]
  },
  {
   "cell_type": "code",
   "execution_count": 12,
   "metadata": {},
   "outputs": [
    {
     "name": "stdout",
     "output_type": "stream",
     "text": [
      "{'Albert': 'Male', 'Annie': 'Female', 'Emily': 'Female', 'Holly': 'Female', 'James': 'Male', 'Jo': 'Female', 'Liz': 'Female', 'Marcus': 'Male', 'Miles': 'Male', 'Richard': 'Male', 'Wyatt': 'Male', 'Angelina Jolie': 'Female', 'Batman (Christian Bale)': 'Male', 'Christian Bale': 'Male', 'Emma Stone': 'Female', 'Jack Nicholson': 'Male', 'Jodie Foster': 'Female', 'Kate Winslet': 'Female', 'Matthew McCaunaghey': 'Male', 'Morgan Freeman': 'Male', 'Scarlett Johansson': 'Female', 'Tom Cruise': 'Male'}\n"
     ]
    }
   ],
   "source": [
    "voice_assigner()"
   ]
  },
  {
   "cell_type": "code",
   "execution_count": null,
   "metadata": {},
   "outputs": [],
   "source": []
  }
 ],
 "metadata": {
  "kernelspec": {
   "display_name": "base",
   "language": "python",
   "name": "python3"
  },
  "language_info": {
   "codemirror_mode": {
    "name": "ipython",
    "version": 3
   },
   "file_extension": ".py",
   "mimetype": "text/x-python",
   "name": "python",
   "nbconvert_exporter": "python",
   "pygments_lexer": "ipython3",
   "version": "3.11.5"
  }
 },
 "nbformat": 4,
 "nbformat_minor": 2
}
